{
  "cells": [
    {
      "cell_type": "markdown",
      "metadata": {
        "id": "ikDv2432Z0D_"
      },
      "source": [
        "# Práctica 1. Introducción a Python\n",
        "\n",
        "Objetivos de la práctica:\n",
        "- Familiarizarnos con el lenguaje Python.\n",
        "     - Familiarizarnos con el interprete de Python.\n",
        "     - Definir funciones en Python.\n",
        "     - Trabajar con los tipos básicos de Python.\n",
        "- Familiarizarnos con los notebooks de Jupyter y el entorno de Google Colab.\n",
        "\n",
        "Si estás utilizando Colab para interactuar con estos notebooks, para que los cambios realizados se almacenen en el repositorio debes usar la opción Save a copy in GitHub... del menú File. "
      ]
    },
    {
      "cell_type": "markdown",
      "metadata": {
        "id": "xfnEPPAsZ0ED"
      },
      "source": [
        "## Ejercicios mínimos (6 puntos)\n",
        "\n",
        "### Ejercicio 1\n",
        "\n",
        "Crea tantas celdas como necesites y ejecuta las siguientes instrucciones:\n",
        "- (50-5*6)/4\n",
        "- ancho = 20\n",
        "- alto = 5*9\n",
        "- area = ancho*alto\n",
        "- area\n",
        "- True and 2==3"
      ]
    },
    {
      "cell_type": "code",
      "execution_count": 4,
      "metadata": {
        "id": "5yPTSR7sZ0EH",
        "colab": {
          "base_uri": "https://localhost:8080/"
        },
        "outputId": "5342749f-9aef-4901-c4fa-d30c0a91c427"
      },
      "outputs": [
        {
          "output_type": "execute_result",
          "data": {
            "text/plain": [
              "5.0"
            ]
          },
          "metadata": {},
          "execution_count": 4
        }
      ],
      "source": [
        "(50-5*6)/4"
      ]
    },
    {
      "cell_type": "code",
      "source": [
        "ancho=20\n",
        "alto=5*9\n",
        "area=ancho*alto"
      ],
      "metadata": {
        "id": "3InV3rTU91sZ"
      },
      "execution_count": 7,
      "outputs": []
    },
    {
      "cell_type": "code",
      "source": [
        "area"
      ],
      "metadata": {
        "colab": {
          "base_uri": "https://localhost:8080/"
        },
        "id": "3KxtadaM93fY",
        "outputId": "d0a29e07-9b05-42fc-fabb-741484d45a9f"
      },
      "execution_count": 8,
      "outputs": [
        {
          "output_type": "execute_result",
          "data": {
            "text/plain": [
              "900"
            ]
          },
          "metadata": {},
          "execution_count": 8
        }
      ]
    },
    {
      "cell_type": "code",
      "source": [
        "True and 2==3"
      ],
      "metadata": {
        "colab": {
          "base_uri": "https://localhost:8080/"
        },
        "id": "YL4WiC5S9_bY",
        "outputId": "0656227e-629b-4a87-a07c-1d87efe00ccb"
      },
      "execution_count": 9,
      "outputs": [
        {
          "output_type": "execute_result",
          "data": {
            "text/plain": [
              "False"
            ]
          },
          "metadata": {},
          "execution_count": 9
        }
      ]
    },
    {
      "cell_type": "markdown",
      "metadata": {
        "id": "Fo-vlKOjZ0EV"
      },
      "source": [
        "### Ejercicio 2\n",
        "\n",
        "A continuación vemos cómo se define una función, y cómo se puede utilizar.\n",
        "\n",
        "La siguiente función toma un número y le suma 44."
      ]
    },
    {
      "cell_type": "code",
      "execution_count": 10,
      "metadata": {
        "id": "-MIzYRe5Z0EW"
      },
      "outputs": [],
      "source": [
        "def mas44(x):\n",
        "    return x + 44"
      ]
    },
    {
      "cell_type": "markdown",
      "metadata": {
        "id": "XdZO1c1QZ0Ee"
      },
      "source": [
        "Ahora podemos utilizar la función del siguiente modo."
      ]
    },
    {
      "cell_type": "code",
      "execution_count": 11,
      "metadata": {
        "id": "hQI1E5gHZ0Eg",
        "colab": {
          "base_uri": "https://localhost:8080/"
        },
        "outputId": "f57d97ff-b23c-473b-f47d-b1b49a1ee88c"
      },
      "outputs": [
        {
          "output_type": "execute_result",
          "data": {
            "text/plain": [
              "49"
            ]
          },
          "metadata": {},
          "execution_count": 11
        }
      ],
      "source": [
        "mas44(5)"
      ]
    },
    {
      "cell_type": "markdown",
      "metadata": {
        "id": "Aaa3ruToZ0En"
      },
      "source": [
        "### Ejercicio 3\n",
        "\n",
        "Define una función que dados dos números devuelva el menor de ellos. Utiliza la siguiente cabecera. En la celda siguiente debes reemplazar el ``pass`` por la definición de la función."
      ]
    },
    {
      "cell_type": "code",
      "execution_count": 14,
      "metadata": {
        "id": "8wbv6N3BZ0Ep"
      },
      "outputs": [],
      "source": [
        "def minimo(x,y):\n",
        "    '''\n",
        "    >>> minimo(10, 5)\n",
        "    5\n",
        "    >>> minimo(-4, 9)\n",
        "    -4\n",
        "    >>> minimo(3.8, 2.9)\n",
        "    2.9\n",
        "    '''\n",
        "    if(x<y):\n",
        "      return x\n",
        "    else:\n",
        "      return y"
      ]
    },
    {
      "cell_type": "markdown",
      "metadata": {
        "id": "ehHfpjvqZ0Ew"
      },
      "source": [
        "Si la definición anterior no es correcta, al ejecutar la siguiente celda obtendrás un error, lo que significa que tu función no pasa los tests proporcionados. "
      ]
    },
    {
      "cell_type": "code",
      "execution_count": 15,
      "metadata": {
        "id": "Y1lLNRWWZ0Ey",
        "colab": {
          "base_uri": "https://localhost:8080/"
        },
        "outputId": "f2826983-efb2-432a-8919-04af0d3a6257"
      },
      "outputs": [
        {
          "output_type": "execute_result",
          "data": {
            "text/plain": [
              "TestResults(failed=0, attempted=3)"
            ]
          },
          "metadata": {},
          "execution_count": 15
        }
      ],
      "source": [
        "import doctest\n",
        "doctest.testmod()"
      ]
    },
    {
      "cell_type": "markdown",
      "metadata": {
        "id": "BTAWy3iKZ0E3"
      },
      "source": [
        "### Ejercicio 4\n",
        "\n",
        "Define una función que dado un string, devuelve un string que contiene los dos primeros y los dos últimos caracteres del string; es decir, si la función recibe 'primavera', la función devolverá 'prra'. Sin embargo, si la longitud del string es menor que dos, la función devolverá el string vacio."
      ]
    },
    {
      "cell_type": "code",
      "execution_count": 18,
      "metadata": {
        "id": "0gNDnvUqZ0E5"
      },
      "outputs": [],
      "source": [
        "def principio_fin(s):\n",
        "    '''\n",
        "    >>> principio_fin('primavera')\n",
        "    'prra'\n",
        "    >>> principio_fin('invierno')\n",
        "    'inno'\n",
        "    >>> principio_fin('xyz')\n",
        "    'xyyz'\n",
        "    >>> principio_fin('a')\n",
        "    ''\n",
        "    '''\n",
        "    if len(s) > 2:\n",
        "      return s[:2] + s[-2:]\n",
        "    else:\n",
        "      return \"\""
      ]
    },
    {
      "cell_type": "markdown",
      "metadata": {
        "id": "BLaUhyVuZ0FA"
      },
      "source": [
        "Comprueba los tests."
      ]
    },
    {
      "cell_type": "code",
      "execution_count": 19,
      "metadata": {
        "id": "VbWdTheIZ0FC",
        "colab": {
          "base_uri": "https://localhost:8080/"
        },
        "outputId": "9d82db37-a898-4cf1-fa68-285cfa162f7f"
      },
      "outputs": [
        {
          "output_type": "execute_result",
          "data": {
            "text/plain": [
              "TestResults(failed=0, attempted=7)"
            ]
          },
          "metadata": {},
          "execution_count": 19
        }
      ],
      "source": [
        "doctest.testmod()"
      ]
    },
    {
      "cell_type": "markdown",
      "metadata": {
        "id": "5GNnRPmoZ0FH"
      },
      "source": [
        "### Ejercicio 5\n",
        "\n",
        "Define una función que dado un string s, devuelve un string donde todas las ocurrencias del primer carácter de s han sido reemplazadas por '\\*', exceptuando el primer carácter. Ejemplo. 'babble' produce 'ba**le'. Ejecuta la siguiente celda para saber qué hace la función ``replace``."
      ]
    },
    {
      "cell_type": "code",
      "execution_count": 20,
      "metadata": {
        "id": "fM0WDTxFZ0FJ"
      },
      "outputs": [],
      "source": [
        "s = ''\n",
        "??s.replace"
      ]
    },
    {
      "cell_type": "code",
      "execution_count": 46,
      "metadata": {
        "id": "zrrYigVnZ0FP"
      },
      "outputs": [],
      "source": [
        "def comienzo_fijo(s):\n",
        "    '''\n",
        "    >>> comienzo_fijo('babble')\n",
        "    'ba**le'\n",
        "    >>> comienzo_fijo('aardvark')\n",
        "    'a*rdv*rk'\n",
        "    >>> comienzo_fijo('google')\n",
        "    'goo*le'\n",
        "    >>> comienzo_fijo('donut')\n",
        "    'donut'\n",
        "    '''\n",
        "    reemplazo = s.replace(s[0], \"*\")\n",
        "    return s.replace(s[1:], reemplazo[1:])"
      ]
    },
    {
      "cell_type": "markdown",
      "metadata": {
        "id": "2Vq5mVhLZ0FV"
      },
      "source": [
        "Comprueba los tests."
      ]
    },
    {
      "cell_type": "code",
      "execution_count": 47,
      "metadata": {
        "id": "TU4w5rvCZ0FW",
        "colab": {
          "base_uri": "https://localhost:8080/"
        },
        "outputId": "1706a460-b026-4f92-8d2a-143101db497b"
      },
      "outputs": [
        {
          "output_type": "execute_result",
          "data": {
            "text/plain": [
              "TestResults(failed=0, attempted=11)"
            ]
          },
          "metadata": {},
          "execution_count": 47
        }
      ],
      "source": [
        "doctest.testmod()"
      ]
    },
    {
      "cell_type": "markdown",
      "metadata": {
        "id": "p_AoYDetZ0Fc"
      },
      "source": [
        "### Ejercicio 6\n",
        "\n",
        "Define una función que dado un string s, devuelva una tupla con dos elementos, donde el primer elemento de la  tupla es el número de letras del string y el segundo elemento es el número de números del string."
      ]
    },
    {
      "cell_type": "code",
      "execution_count": 52,
      "metadata": {
        "id": "VGRuniFFZ0Fe"
      },
      "outputs": [],
      "source": [
        "def cuenta_letras_numeros(s):\n",
        "    '''\n",
        "    >>> cuenta_letras_numeros('hello world! 123')\n",
        "    (10, 3)\n",
        "    >>> cuenta_letras_numeros('123abcde')\n",
        "    (5, 3)\n",
        "    '''\n",
        "    numeros=0\n",
        "    letras=0\n",
        "    for i in s:\n",
        "      if(i.isalpha()):\n",
        "        letras +=1\n",
        "      elif(i.isdigit()):\n",
        "        numeros +=1\n",
        "    \n",
        "    tuple=(letras,numeros)\n",
        "    return tuple\n",
        "\n"
      ]
    },
    {
      "cell_type": "markdown",
      "metadata": {
        "id": "RtnMcwHSZ0Fn"
      },
      "source": [
        "Comprueba los tests."
      ]
    },
    {
      "cell_type": "code",
      "execution_count": 53,
      "metadata": {
        "id": "CEsDg1XDZ0Fp",
        "colab": {
          "base_uri": "https://localhost:8080/"
        },
        "outputId": "4ced9a07-6dde-4443-e064-526f7cc590fa"
      },
      "outputs": [
        {
          "output_type": "execute_result",
          "data": {
            "text/plain": [
              "TestResults(failed=0, attempted=13)"
            ]
          },
          "metadata": {},
          "execution_count": 53
        }
      ],
      "source": [
        "doctest.testmod()"
      ]
    },
    {
      "cell_type": "markdown",
      "metadata": {
        "id": "rGYg3PseZ0Ft"
      },
      "source": [
        "### Ejercicio 7\n",
        "\n",
        "Define una función que dada una lista de strings devuelva el número de strings cuya longitud es mayor que 2 y que\n",
        "además cumplen que el primer y último carácter del string son el mismo."
      ]
    },
    {
      "cell_type": "code",
      "execution_count": 54,
      "metadata": {
        "id": "T5NtQotnZ0Fu"
      },
      "outputs": [],
      "source": [
        "def cuenta_strings(palabras):\n",
        "    '''\n",
        "    >>> cuenta_strings(['aba', 'bb', 'cdefc'])\n",
        "    2\n",
        "    >>> cuenta_strings(['oso', 'ojo', 'radar', 'reconocer','rotor', 'salas'])\n",
        "    6\n",
        "    '''\n",
        "    numero=0\n",
        "    for i in palabras:\n",
        "      if(len(i)>2 and i[0]==i[-1]):\n",
        "        numero +=1\n",
        "\n",
        "    return numero"
      ]
    },
    {
      "cell_type": "markdown",
      "metadata": {
        "id": "DiUz5ivIZ0Fz"
      },
      "source": [
        "Comprueba los tests."
      ]
    },
    {
      "cell_type": "code",
      "execution_count": 55,
      "metadata": {
        "id": "7-SWnXF4Z0F0",
        "colab": {
          "base_uri": "https://localhost:8080/"
        },
        "outputId": "a322f61c-2895-4a10-b558-df287e1362f1"
      },
      "outputs": [
        {
          "output_type": "execute_result",
          "data": {
            "text/plain": [
              "TestResults(failed=0, attempted=15)"
            ]
          },
          "metadata": {},
          "execution_count": 55
        }
      ],
      "source": [
        "doctest.testmod()"
      ]
    },
    {
      "cell_type": "markdown",
      "metadata": {
        "id": "3L1LwZ8FZ0F5"
      },
      "source": [
        "### Ejercicio 8\n",
        "\n",
        "Define una función que dada dos listas de igual tamaño produce una lista de tuplas combinando los elementos de las dos listas. Ejemplo: dadas las listas ``[1,2,3]`` y ``['a','b','c']`` produce la lista ``[(1,'a'), (2,'b'), (3,'c')]``. En caso de que las dos listas no tengan la misma longitud, la función devolverá el string 'listas no validas'."
      ]
    },
    {
      "cell_type": "code",
      "execution_count": 66,
      "metadata": {
        "id": "_XrQRFWEZ0F6"
      },
      "outputs": [],
      "source": [
        "def combina_listas(lista1,lista2):\n",
        "    '''\n",
        "    >>> combina_listas([1, 2, 3] ,['a', 'b', 'c'])\n",
        "    [(1, 'a'), (2, 'b'), (3, 'c')]\n",
        "    >>> combina_listas([1, 2, 3],['a', 'b'])\n",
        "    'listas no validas'\n",
        "    '''\n",
        "    if (len(lista1)!=len(lista2)):\n",
        "      return \"listas no validas\"\n",
        "    else:\n",
        "      lista3=[]\n",
        "      for i in range(len(lista1)):\n",
        "        tuple=(lista1[i], lista2[i])\n",
        "        lista3.append(tuple)\n",
        "      return lista3"
      ]
    },
    {
      "cell_type": "markdown",
      "metadata": {
        "id": "JYkZ93YEZ0F-"
      },
      "source": [
        "Comprueba los tests."
      ]
    },
    {
      "cell_type": "code",
      "execution_count": 67,
      "metadata": {
        "id": "_SbExYEDZ0F_",
        "colab": {
          "base_uri": "https://localhost:8080/"
        },
        "outputId": "ef9fe264-bbc6-45d6-fbd6-e31a6c55424f"
      },
      "outputs": [
        {
          "output_type": "execute_result",
          "data": {
            "text/plain": [
              "TestResults(failed=0, attempted=19)"
            ]
          },
          "metadata": {},
          "execution_count": 67
        }
      ],
      "source": [
        "doctest.testmod()"
      ]
    },
    {
      "cell_type": "markdown",
      "metadata": {
        "id": "oUec0diRZ0GF"
      },
      "source": [
        "### Ejercicio 9\n",
        "\n",
        "Define una función que dada dos listas de números, las mezcla y devuelve la mezcla ordenada. Ejemplo: dadas las listas ``[4,1,3]`` y ``[2,5]`` devuelve la lista ``[1,2,3,4,5]``."
      ]
    },
    {
      "cell_type": "code",
      "execution_count": 62,
      "metadata": {
        "id": "uYR7PtCFZ0GG"
      },
      "outputs": [],
      "source": [
        "def mezcla_y_ordena(lista1,lista2):\n",
        "    '''\n",
        "    >>> mezcla_y_ordena([1, 2, 3], [4, 5, 6])\n",
        "    [1, 2, 3, 4, 5, 6]\n",
        "    >>> mezcla_y_ordena([4, 1, 3], [2, 5])\n",
        "    [1, 2, 3, 4, 5]\n",
        "    '''\n",
        "    lista1.extend(lista2)\n",
        "    lista1.sort()\n",
        "    return lista1"
      ]
    },
    {
      "cell_type": "markdown",
      "metadata": {
        "id": "N-H6UKo_Z0GK"
      },
      "source": [
        "Comprueba los tests."
      ]
    },
    {
      "cell_type": "code",
      "execution_count": 68,
      "metadata": {
        "id": "yWSK3SoaZ0GL",
        "colab": {
          "base_uri": "https://localhost:8080/"
        },
        "outputId": "388ad1c4-9349-444b-9176-447dd314060d"
      },
      "outputs": [
        {
          "output_type": "execute_result",
          "data": {
            "text/plain": [
              "TestResults(failed=0, attempted=19)"
            ]
          },
          "metadata": {},
          "execution_count": 68
        }
      ],
      "source": [
        "doctest.testmod()"
      ]
    },
    {
      "cell_type": "markdown",
      "metadata": {
        "id": "EsKg9q-wZ0GP"
      },
      "source": [
        "### Ejercicio 10\n",
        "\n",
        "Define una función que dada una lista de elementos, devuelve una lista donde todos los elementos adyacentes\n",
        "que son iguales han sido reducidos a un único elemento. Ejemplo: Dada la lista ``[1,2,2,3]`` produce la lista ``[1,2,3]``."
      ]
    },
    {
      "cell_type": "code",
      "execution_count": 117,
      "metadata": {
        "id": "aWHCzPqNZ0GQ"
      },
      "outputs": [],
      "source": [
        "def elimina_adyacentes(lista):\n",
        "    '''\n",
        "    >>> elimina_adyacentes([1, 2, 2, 3])\n",
        "    [1, 2, 3]\n",
        "    >>> elimina_adyacentes([2, 2, 3, 3, 3])\n",
        "    [2, 3]\n",
        "    >>> elimina_adyacentes([1, 2, 2, 3,3,3,4,2,2])\n",
        "    [1, 2, 3, 4, 2]\n",
        "    >>> elimina_adyacentes([])\n",
        "    []\n",
        "    '''\n",
        "    for i in range(len(lista)-1, 0, -1):\n",
        "      if(lista[i]==lista[i-1]):\n",
        "        lista.remove(lista[i])\n",
        "    return lista"
      ]
    },
    {
      "cell_type": "code",
      "execution_count": 118,
      "metadata": {
        "id": "rBK2DLFtZ0GT",
        "colab": {
          "base_uri": "https://localhost:8080/"
        },
        "outputId": "2a21b704-6360-401c-a40c-af99c6d6e965"
      },
      "outputs": [
        {
          "output_type": "stream",
          "name": "stdout",
          "text": [
            "**********************************************************************\n",
            "File \"__main__\", line 7, in __main__.elimina_adyacentes\n",
            "Failed example:\n",
            "    elimina_adyacentes([1, 2, 2, 3,3,3,4,2,2])\n",
            "Expected:\n",
            "    [1, 2, 3, 4, 2]\n",
            "Got:\n",
            "    [1, 3, 4, 2]\n",
            "**********************************************************************\n",
            "1 items had failures:\n",
            "   1 of   4 in __main__.elimina_adyacentes\n",
            "***Test Failed*** 1 failures.\n"
          ]
        },
        {
          "output_type": "execute_result",
          "data": {
            "text/plain": [
              "TestResults(failed=1, attempted=23)"
            ]
          },
          "metadata": {},
          "execution_count": 118
        }
      ],
      "source": [
        "doctest.testmod()"
      ]
    },
    {
      "cell_type": "markdown",
      "metadata": {
        "id": "uDllyRgnZ0GW"
      },
      "source": [
        "### Ejercicio 11\n",
        "\n",
        "Define una función que dada una tupla de elementos, devuelve una lista con los elementos de la tupla."
      ]
    },
    {
      "cell_type": "code",
      "execution_count": 121,
      "metadata": {
        "id": "TS2ZZJKlZ0GY"
      },
      "outputs": [],
      "source": [
        "def tupla_a_lista(tupla):\n",
        "    '''\n",
        "    >>> tupla_a_lista((1, 2, 2, 3))\n",
        "    [1, 2, 2, 3]\n",
        "    >>> tupla_a_lista(())\n",
        "    []\n",
        "    '''\n",
        "    lista=[]\n",
        "    for i in range(len(tupla)):\n",
        "      lista.append(tupla[i])\n",
        "    return lista"
      ]
    },
    {
      "cell_type": "markdown",
      "metadata": {
        "id": "H3QjIo4uZ0Gc"
      },
      "source": [
        "Comprueba los tests."
      ]
    },
    {
      "cell_type": "code",
      "execution_count": 122,
      "metadata": {
        "id": "Jx3TZZsUZ0Ge",
        "colab": {
          "base_uri": "https://localhost:8080/"
        },
        "outputId": "52ad59c8-b761-4e21-a48c-34fae161ced5"
      },
      "outputs": [
        {
          "output_type": "stream",
          "name": "stdout",
          "text": [
            "**********************************************************************\n",
            "File \"__main__\", line 7, in __main__.elimina_adyacentes\n",
            "Failed example:\n",
            "    elimina_adyacentes([1, 2, 2, 3,3,3,4,2,2])\n",
            "Expected:\n",
            "    [1, 2, 3, 4, 2]\n",
            "Got:\n",
            "    [1, 3, 4, 2]\n",
            "**********************************************************************\n",
            "1 items had failures:\n",
            "   1 of   4 in __main__.elimina_adyacentes\n",
            "***Test Failed*** 1 failures.\n"
          ]
        },
        {
          "output_type": "execute_result",
          "data": {
            "text/plain": [
              "TestResults(failed=1, attempted=25)"
            ]
          },
          "metadata": {},
          "execution_count": 122
        }
      ],
      "source": [
        "doctest.testmod()"
      ]
    },
    {
      "cell_type": "markdown",
      "metadata": {
        "id": "pLiiYrUeZ0Gj"
      },
      "source": [
        "### Ejercicio 12\n",
        "\n",
        "Define una función que dados dos conjuntos de elementos devuelva un nuevo conjunto con los elementos del primer conjunto que no están en el segundo."
      ]
    },
    {
      "cell_type": "code",
      "execution_count": 123,
      "metadata": {
        "id": "SixfiU86Z0Gl"
      },
      "outputs": [],
      "source": [
        "def diferencia_conjuntos(c1,c2):\n",
        "    '''\n",
        "    >>> diferencia_conjuntos(set([\"White\", \"Black\", \"Red\"]), set([\"Red\", \"Green\"]))\n",
        "    {'White', 'Black'}\n",
        "    '''\n",
        "    return c1-c2"
      ]
    },
    {
      "cell_type": "markdown",
      "metadata": {
        "id": "u9qrTBqnZ0Gp"
      },
      "source": [
        "Comprueba los tests."
      ]
    },
    {
      "cell_type": "code",
      "execution_count": 124,
      "metadata": {
        "id": "mliSEkc3Z0Gq",
        "colab": {
          "base_uri": "https://localhost:8080/"
        },
        "outputId": "84792fc4-587a-4c7c-ed7f-45582aab3a57"
      },
      "outputs": [
        {
          "output_type": "stream",
          "name": "stdout",
          "text": [
            "**********************************************************************\n",
            "File \"__main__\", line 7, in __main__.elimina_adyacentes\n",
            "Failed example:\n",
            "    elimina_adyacentes([1, 2, 2, 3,3,3,4,2,2])\n",
            "Expected:\n",
            "    [1, 2, 3, 4, 2]\n",
            "Got:\n",
            "    [1, 3, 4, 2]\n",
            "**********************************************************************\n",
            "1 items had failures:\n",
            "   1 of   4 in __main__.elimina_adyacentes\n",
            "***Test Failed*** 1 failures.\n"
          ]
        },
        {
          "output_type": "execute_result",
          "data": {
            "text/plain": [
              "TestResults(failed=1, attempted=26)"
            ]
          },
          "metadata": {},
          "execution_count": 124
        }
      ],
      "source": [
        "doctest.testmod()"
      ]
    },
    {
      "cell_type": "markdown",
      "metadata": {
        "id": "EYJR6OfZZ0Gs"
      },
      "source": [
        "## Ejercicios de ampliación I (1 punto)\n",
        "\n",
        "A continuación se proponen unos ejercicios de ampliación."
      ]
    },
    {
      "cell_type": "markdown",
      "metadata": {
        "id": "ymzCUFLXZ0Gu"
      },
      "source": [
        "### Ejercicio 13\n",
        "\n",
        "Define una función que dado un entero n positivo y mayor o igual que 0 devuelva el n-ésimo número de Fibonacci. Recuerda que el 0-ésimo número de Fibonacci es 0, el primero es 1, y para i > 1, el i-ésimo número de Fibonacci es la suma del (i-1)-ésimo mas el (i-2)-ésimo."
      ]
    },
    {
      "cell_type": "code",
      "execution_count": 129,
      "metadata": {
        "id": "-bVero4TZ0Gv"
      },
      "outputs": [],
      "source": [
        "def n_esimo_Fibonacci(n):\n",
        "    '''\n",
        "    >>> n_esimo_Fibonacci(0)\n",
        "    0\n",
        "    >>> n_esimo_Fibonacci(1)\n",
        "    1\n",
        "    >>> n_esimo_Fibonacci(2)\n",
        "    1\n",
        "    >>> n_esimo_Fibonacci(3)\n",
        "    2\n",
        "    >>> n_esimo_Fibonacci(10)\n",
        "    55\n",
        "    '''\n",
        "    if(n==0):\n",
        "      return 0\n",
        "    elif(n==1):\n",
        "      return 1\n",
        "    elif(n>1):\n",
        "      return n_esimo_Fibonacci(n-1) + n_esimo_Fibonacci(n-2)"
      ]
    },
    {
      "cell_type": "markdown",
      "metadata": {
        "id": "sxdnFAxoZ0Gz"
      },
      "source": [
        "Comprueba los tests."
      ]
    },
    {
      "cell_type": "code",
      "execution_count": 130,
      "metadata": {
        "id": "-hQnOXQ8Z0Gz",
        "colab": {
          "base_uri": "https://localhost:8080/"
        },
        "outputId": "9610c858-7ec7-4369-d0fe-c261290f9479"
      },
      "outputs": [
        {
          "output_type": "stream",
          "name": "stdout",
          "text": [
            "**********************************************************************\n",
            "File \"__main__\", line 7, in __main__.elimina_adyacentes\n",
            "Failed example:\n",
            "    elimina_adyacentes([1, 2, 2, 3,3,3,4,2,2])\n",
            "Expected:\n",
            "    [1, 2, 3, 4, 2]\n",
            "Got:\n",
            "    [1, 3, 4, 2]\n",
            "**********************************************************************\n",
            "File \"__main__\", line 3, in __main__.secuencia_Fibonacci\n",
            "Failed example:\n",
            "    secuencia_Fibonacci(0)\n",
            "Expected:\n",
            "    []\n",
            "Got nothing\n",
            "**********************************************************************\n",
            "File \"__main__\", line 5, in __main__.secuencia_Fibonacci\n",
            "Failed example:\n",
            "    secuencia_Fibonacci(1)\n",
            "Expected:\n",
            "    [1]\n",
            "Got nothing\n",
            "**********************************************************************\n",
            "File \"__main__\", line 7, in __main__.secuencia_Fibonacci\n",
            "Failed example:\n",
            "    secuencia_Fibonacci(2)\n",
            "Expected:\n",
            "    [1, 1]\n",
            "Got nothing\n",
            "**********************************************************************\n",
            "File \"__main__\", line 9, in __main__.secuencia_Fibonacci\n",
            "Failed example:\n",
            "    secuencia_Fibonacci(3)\n",
            "Expected:\n",
            "    [1, 1, 2]\n",
            "Got nothing\n",
            "**********************************************************************\n",
            "File \"__main__\", line 11, in __main__.secuencia_Fibonacci\n",
            "Failed example:\n",
            "    secuencia_Fibonacci(10)\n",
            "Expected:\n",
            "    [1, 1, 2, 3, 5, 8, 13, 21, 34, 55]\n",
            "Got nothing\n",
            "**********************************************************************\n",
            "2 items had failures:\n",
            "   1 of   4 in __main__.elimina_adyacentes\n",
            "   5 of   5 in __main__.secuencia_Fibonacci\n",
            "***Test Failed*** 6 failures.\n"
          ]
        },
        {
          "output_type": "execute_result",
          "data": {
            "text/plain": [
              "TestResults(failed=6, attempted=36)"
            ]
          },
          "metadata": {},
          "execution_count": 130
        }
      ],
      "source": [
        "doctest.testmod()"
      ]
    },
    {
      "cell_type": "markdown",
      "metadata": {
        "id": "6SG1s9gfZ0G3"
      },
      "source": [
        "### Ejercicio 14\n",
        "\n",
        "Define una función que dado un entero n positivo y mayor o igual que 0 devuelva la secuencia de los n primeros  números de Fibonacci sin incluir al 0. En caso de que la función tome como parámetro n=0 devolverá la lista vacía."
      ]
    },
    {
      "cell_type": "code",
      "execution_count": 131,
      "metadata": {
        "id": "MFVBuh5xZ0G4"
      },
      "outputs": [],
      "source": [
        "def secuencia_Fibonacci(n):\n",
        "    '''\n",
        "    >>> secuencia_Fibonacci(0)\n",
        "    []\n",
        "    >>> secuencia_Fibonacci(1)\n",
        "    [1]\n",
        "    >>> secuencia_Fibonacci(2)\n",
        "    [1, 1]\n",
        "    >>> secuencia_Fibonacci(3)\n",
        "    [1, 1, 2]\n",
        "    >>> secuencia_Fibonacci(10)\n",
        "    [1, 1, 2, 3, 5, 8, 13, 21, 34, 55]\n",
        "    '''\n",
        "    lista=[]\n",
        "    a, b = 0, 1\n",
        "    while a < n:\n",
        "       lista.append(a)\n",
        "       a, b = b, a+b\n",
        "    return lista\n"
      ]
    },
    {
      "cell_type": "markdown",
      "metadata": {
        "id": "j9Uo7m6MZ0G7"
      },
      "source": [
        "Comprueba los tests."
      ]
    },
    {
      "cell_type": "code",
      "execution_count": 132,
      "metadata": {
        "id": "hzY0uv-6Z0G8",
        "colab": {
          "base_uri": "https://localhost:8080/"
        },
        "outputId": "32939b50-6c03-4944-e0dd-9708a249491a"
      },
      "outputs": [
        {
          "output_type": "stream",
          "name": "stdout",
          "text": [
            "**********************************************************************\n",
            "File \"__main__\", line 7, in __main__.elimina_adyacentes\n",
            "Failed example:\n",
            "    elimina_adyacentes([1, 2, 2, 3,3,3,4,2,2])\n",
            "Expected:\n",
            "    [1, 2, 3, 4, 2]\n",
            "Got:\n",
            "    [1, 3, 4, 2]\n",
            "**********************************************************************\n",
            "File \"__main__\", line 5, in __main__.secuencia_Fibonacci\n",
            "Failed example:\n",
            "    secuencia_Fibonacci(1)\n",
            "Expected:\n",
            "    [1]\n",
            "Got:\n",
            "    [0]\n",
            "**********************************************************************\n",
            "File \"__main__\", line 7, in __main__.secuencia_Fibonacci\n",
            "Failed example:\n",
            "    secuencia_Fibonacci(2)\n",
            "Expected:\n",
            "    [1, 1]\n",
            "Got:\n",
            "    [0, 1, 1]\n",
            "**********************************************************************\n",
            "File \"__main__\", line 9, in __main__.secuencia_Fibonacci\n",
            "Failed example:\n",
            "    secuencia_Fibonacci(3)\n",
            "Expected:\n",
            "    [1, 1, 2]\n",
            "Got:\n",
            "    [0, 1, 1, 2]\n",
            "**********************************************************************\n",
            "File \"__main__\", line 11, in __main__.secuencia_Fibonacci\n",
            "Failed example:\n",
            "    secuencia_Fibonacci(10)\n",
            "Expected:\n",
            "    [1, 1, 2, 3, 5, 8, 13, 21, 34, 55]\n",
            "Got:\n",
            "    [0, 1, 1, 2, 3, 5, 8]\n",
            "**********************************************************************\n",
            "2 items had failures:\n",
            "   1 of   4 in __main__.elimina_adyacentes\n",
            "   4 of   5 in __main__.secuencia_Fibonacci\n",
            "***Test Failed*** 5 failures.\n"
          ]
        },
        {
          "output_type": "execute_result",
          "data": {
            "text/plain": [
              "TestResults(failed=5, attempted=36)"
            ]
          },
          "metadata": {},
          "execution_count": 132
        }
      ],
      "source": [
        "doctest.testmod()"
      ]
    },
    {
      "cell_type": "markdown",
      "metadata": {
        "id": "iCHnwTywZ0G_"
      },
      "source": [
        "## Ejercicio de ampliación II (2 puntos)\n",
        "\n",
        "El código genético de todos los organismos vivos se representa mediante una secuencia enorme de moléculas llamadas nucleótidos que forman el ADN. Sólo existen 4 nucleótidos y el código genético puede verse como un string con las letras A, C, G y T.\n",
        "\n",
        "El análisis de datos de ADN se basa, en parte, en buscar largas cadenas de patrones de string que involucran a las letras A, C, G, y T. Con estos ejercicios veremos algunos ejemplos de ello. Para aplicaciones reales no es  recomendable utilizar soluciones a mano y existen librerías como [BioPython](http://biopython.org/).\n",
        "\n",
        "El primer ejercicio consiste en definir una función que verifique que un string es una secuencia de ADN es decir  que solo contiene las letras A, C, G, y T. La función devolverá ``True`` en caso de que el parámetro de entrada sea una secuencia de ADN y False en caso contrario."
      ]
    },
    {
      "cell_type": "code",
      "execution_count": null,
      "metadata": {
        "id": "BHREHLCfZ0HA"
      },
      "outputs": [],
      "source": [
        "def es_secuencia_adn(secuencia):\n",
        "    '''\n",
        "    >>> es_secuencia_adn('ATGGCATTA')\n",
        "    True\n",
        "    >>> es_secuencia_adn('')\n",
        "    True\n",
        "    >>> es_secuencia_adn('AAATTTGGGCCCCGTA')\n",
        "    True\n",
        "    >>> es_secuencia_adn('ATDGGCATTA')\n",
        "    False\n",
        "    >>> es_secuencia_adn('atgcab')\n",
        "    False\n",
        "    '''\n",
        "    pass"
      ]
    },
    {
      "cell_type": "markdown",
      "metadata": {
        "id": "EABGLq1oZ0HD"
      },
      "source": [
        "Comprueba los tests."
      ]
    },
    {
      "cell_type": "code",
      "execution_count": null,
      "metadata": {
        "id": "gkIxwkPaZ0HE"
      },
      "outputs": [],
      "source": [
        "doctest.testmod()"
      ]
    },
    {
      "cell_type": "markdown",
      "metadata": {
        "id": "3HELBD4GZ0HM"
      },
      "source": [
        "Dada una secuencia de ADN (un string) que contiene las letras A, C, G, y T queremos conocer cuántas veces aparece una cierta base en dicha secuencia. Por ejemplo, para la secuencia ATGGCATTA, la base A ocurre 3 veces. Define una función con esta funcionalidad."
      ]
    },
    {
      "cell_type": "code",
      "execution_count": null,
      "metadata": {
        "id": "8cYVuL-uZ0HO"
      },
      "outputs": [],
      "source": [
        "def cuenta(adn, base):\n",
        "    '''\n",
        "    >>> cuenta('ATGGCATTA', 'A')\n",
        "    3\n",
        "    >>> cuenta('ATGGCATTA', 'T')\n",
        "    3\n",
        "    >>> cuenta('ATGGCATTA', 'G')\n",
        "    2\n",
        "    >>> cuenta('ATGGCATTA', 'C')\n",
        "    1\n",
        "    >>> cuenta('ATGGCATTA', 'D')\n",
        "    0\n",
        "    >>> cuenta('', 'C')\n",
        "    0\n",
        "    >>> cuenta('AAATTTGGGCCCCGTA', 'A')\n",
        "    4\n",
        "    >>> cuenta('AAATTTGGGCCCCGTA', 'C')\n",
        "    4\n",
        "    >>> cuenta('AAATTTGGGCCCCGTA', 'G')\n",
        "    4\n",
        "    >>> cuenta('AAATTTGGGCCCCGTA', 'T')\n",
        "    4\n",
        "    '''\n",
        "    pass"
      ]
    },
    {
      "cell_type": "markdown",
      "metadata": {
        "id": "RmFFYfq4Z0HR"
      },
      "source": [
        "Comprueba los tests."
      ]
    },
    {
      "cell_type": "code",
      "execution_count": null,
      "metadata": {
        "id": "7dl-DWeSZ0HT"
      },
      "outputs": [],
      "source": [
        "doctest.testmod()"
      ]
    },
    {
      "cell_type": "markdown",
      "metadata": {
        "id": "jKT10U8yZ0HW"
      },
      "source": [
        "El siguiente ejercicio consiste en calcular la frecuencia en la que aparece cada letra en cada posición de una lista de secuencias (todas las secuencias de la lista tienen el mismo número de elementos). El resultado será una tupla de listas, donde la primera lista corresponde a las frecuencias de A, la segunda a las frecuencias de C, la tercera a las de G y la cuarta a las de T. Por ejemplo, dada la lista de secuencias ``['ATGACT', 'AACTGT', 'GGCTAT']`` el resultado sería: ``([2,1,0,1,1,0],[0,0,2,0,1,0],[1,1,1,0,1,0],[0,1,0,1,0,3])``."
      ]
    },
    {
      "cell_type": "code",
      "execution_count": null,
      "metadata": {
        "id": "B2FpEAdDZ0HX"
      },
      "outputs": [],
      "source": [
        "def frecuencias(lista_adns):\n",
        "    '''\n",
        "    >>> frecuencias(['ATGACT', 'AACTGT', 'GGCTAT'])[0]\n",
        "    [2, 1, 0, 1, 1, 0]\n",
        "    >>> frecuencias(['ATGACT', 'AACTGT', 'GGCTAT'])[1]\n",
        "    [0, 0, 2, 0, 1, 0]\n",
        "    >>> frecuencias(['ATGACT', 'AACTGT', 'GGCTAT'])[2]\n",
        "    [1, 1, 1, 0, 1, 0]\n",
        "    >>> frecuencias(['ATGACT', 'AACTGT', 'GGCTAT'])[3]\n",
        "    [0, 1, 0, 2, 0, 3]\n",
        "    '''\n",
        "    pass"
      ]
    },
    {
      "cell_type": "markdown",
      "metadata": {
        "id": "Oi0ppbKwZ0Hb"
      },
      "source": [
        "Comprueba los tests."
      ]
    },
    {
      "cell_type": "code",
      "execution_count": null,
      "metadata": {
        "id": "3HkM09uKZ0Hc"
      },
      "outputs": [],
      "source": [
        "doctest.testmod()"
      ]
    },
    {
      "cell_type": "markdown",
      "metadata": {
        "id": "JNmvg63UZ0Hh"
      },
      "source": [
        "A continuación pasamos a definir una función que genere secuencias aleatorias de adn de un tamaño dado. Para ello\n",
        "deberás importar la librería random (``import random``) y utilizar alguna de sus funciones. Puedes ver las funciones de esta librería en: https://docs.python.org/3/library/random.html. Pista. Busca una función en esta librería que devuelva un elemento aleatorio de una secuencia."
      ]
    },
    {
      "cell_type": "code",
      "execution_count": null,
      "metadata": {
        "id": "GhIkUsrhZ0Hi"
      },
      "outputs": [],
      "source": [
        "def genera_adn(tam):\n",
        "    pass"
      ]
    },
    {
      "cell_type": "markdown",
      "metadata": {
        "id": "oN2uR-BhZ0Hl"
      },
      "source": [
        "Comprueba los tests. En este caso los tests se ejecutan mediante la instrucción ``assert``. "
      ]
    },
    {
      "cell_type": "code",
      "execution_count": null,
      "metadata": {
        "id": "pPybieyFZ0Hl"
      },
      "outputs": [],
      "source": [
        "adn1 = genera_adn(10)\n",
        "adn2 = genera_adn(10)\n",
        "\n",
        "import numpy as np\n",
        "\n",
        "def secuencia_contiene_letras_que_no_son_acgt(seq):\n",
        "    letras = 'BDEFHIJKMLNOPQRSUVWXYZ'\n",
        "    return np.sum([s in seq for s in letras])>0\n",
        "\n",
        "assert(len(adn1)== 10)\n",
        "assert(('A' in adn1) or ('C' in adn1) or ('G' in adn1) or ('T' in adn1))\n",
        "assert(('A' in adn2) or ('C' in adn2) or ('G' in adn2) or ('T' in adn2))\n",
        "assert(not(adn1==adn2))\n",
        "assert(not(secuencia_contiene_letras_que_no_son_acgt(adn1)))\n",
        "assert(not(secuencia_contiene_letras_que_no_son_acgt(adn2)))"
      ]
    },
    {
      "cell_type": "markdown",
      "metadata": {
        "id": "7MdQ1pCCZ0Hn"
      },
      "source": [
        "## Ejercicio de ampliación III (1 punto)\n",
        "\n",
        "Como hemos visto en clase, es posible añadir los tipos de las funciones en Python; sin embargo, en el código anterior todas las funciones están sin tipar. El tercer ejercicio de ampliación consiste en añadir todos los tipos de entrada y salida de las funciones definidas en la práctica. \n",
        "\n",
        "Para comprobar si los tipos proporcionados son los correctos debes usar la librería [mypy](http://mypy-lang.org/) y la [celda mágica](https://ipython.readthedocs.io/en/stable/interactive/magics.html) [typecheck](https://gist.github.com/knowsuchagency/f7b2203dd613756a45f816d6809f01a6). Para utilizar dicha funcionalidad debes comenzar descargando las librerías y código necesario."
      ]
    },
    {
      "cell_type": "code",
      "execution_count": null,
      "metadata": {
        "id": "w7JLTLsoZ0Hp"
      },
      "outputs": [],
      "source": [
        "!pip install mypy\n",
        "!wget https://raw.githubusercontent.com/IA1920/Utils/master/typecheck.py"
      ]
    },
    {
      "cell_type": "markdown",
      "metadata": {
        "id": "oNKxu-lRZ0Hs"
      },
      "source": [
        "Cargamos la funcionalidad necesaria."
      ]
    },
    {
      "cell_type": "code",
      "execution_count": null,
      "metadata": {
        "id": "s-q12IezZ0Hs"
      },
      "outputs": [],
      "source": [
        "from typecheck import *"
      ]
    },
    {
      "cell_type": "markdown",
      "metadata": {
        "id": "tfYBd9MiZ0Hv"
      },
      "source": [
        "Ahora puedes comprobar si los tipos proporcionados a la función son los correctos del siguiente modo (lo importante es incluir ``%%typecheck`` al principio de la celda). A continuación se muestran unos cuantos ejemplos y los errores que se pueden producir."
      ]
    },
    {
      "cell_type": "code",
      "execution_count": null,
      "metadata": {
        "id": "cUdYYRBUZ0Hw"
      },
      "outputs": [],
      "source": [
        "%%typecheck\n",
        "def mas3(x:int)->int:\n",
        "    return x+3"
      ]
    },
    {
      "cell_type": "code",
      "execution_count": null,
      "metadata": {
        "id": "fvnsIZV_Z0Hy"
      },
      "outputs": [],
      "source": [
        "%%typecheck\n",
        "def mas4(x:int)->int:\n",
        "    x+4"
      ]
    },
    {
      "cell_type": "code",
      "execution_count": null,
      "metadata": {
        "id": "aqkoiEnJZ0H2"
      },
      "outputs": [],
      "source": [
        "%%typecheck\n",
        "def mas4(x:int)->bool:\n",
        "    return x+4"
      ]
    },
    {
      "cell_type": "markdown",
      "metadata": {
        "id": "fgQfFl8VZ0H4"
      },
      "source": [
        "Añade los tipos a las funciones definidas a lo largo de la práctica y comprueba que dichos tipos son correctos. "
      ]
    },
    {
      "cell_type": "markdown",
      "metadata": {
        "id": "Xa00ihS8Z0H5"
      },
      "source": [
        "## Entrega\n",
        "\n",
        "Recuerda guardar este notebook en tu repositorio."
      ]
    }
  ],
  "metadata": {
    "colab": {
      "name": "practica1.ipynb",
      "provenance": []
    },
    "kernelspec": {
      "display_name": "Python 3",
      "language": "python",
      "name": "python3"
    },
    "language_info": {
      "codemirror_mode": {
        "name": "ipython",
        "version": 3
      },
      "file_extension": ".py",
      "mimetype": "text/x-python",
      "name": "python",
      "nbconvert_exporter": "python",
      "pygments_lexer": "ipython3",
      "version": "3.6.8"
    }
  },
  "nbformat": 4,
  "nbformat_minor": 0
}